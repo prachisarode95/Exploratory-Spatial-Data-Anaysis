{
  "cells": [
    {
      "cell_type": "markdown",
      "metadata": {
        "id": "9LTL9s9409d0"
      },
      "source": [
        "# eda-us-accidents-2016-to-2022\n",
        "\n",
        "Use the \"Run\" button to execute the code."
      ]
    },
    {
      "cell_type": "code",
      "execution_count": 2,
      "metadata": {
        "colab": {
          "base_uri": "https://localhost:8080/"
        },
        "id": "Yu_tGIVe09d_",
        "outputId": "438ef749-6d55-4b15-8cda-d919587a6809"
      },
      "outputs": [
        {
          "output_type": "stream",
          "name": "stdout",
          "text": [
            "\u001b[?25l     \u001b[90m━━━━━━━━━━━━━━━━━━━━━━━━━━━━━━━━━━━━━━━━\u001b[0m \u001b[32m0.0/68.6 kB\u001b[0m \u001b[31m?\u001b[0m eta \u001b[36m-:--:--\u001b[0m\r\u001b[2K     \u001b[90m━━━━━━━━━━━━━━━━━━━━━━━━━━━━━━━━━━━━━━━━\u001b[0m \u001b[32m68.6/68.6 kB\u001b[0m \u001b[31m2.6 MB/s\u001b[0m eta \u001b[36m0:00:00\u001b[0m\n",
            "\u001b[?25h  Preparing metadata (setup.py) ... \u001b[?25l\u001b[?25hdone\n",
            "  Building wheel for uuid (setup.py) ... \u001b[?25l\u001b[?25hdone\n"
          ]
        }
      ],
      "source": [
        "!pip install jovian --upgrade --quiet"
      ]
    },
    {
      "cell_type": "code",
      "source": [
        "import jovian"
      ],
      "metadata": {
        "id": "YCQBD6_x2bJs"
      },
      "execution_count": 3,
      "outputs": []
    },
    {
      "cell_type": "code",
      "source": [
        "# Execute this to save new versions of the notebook\n",
        "jovian.commit(project=\"eda-us-accidents-2016-to-2022\")"
      ],
      "metadata": {
        "colab": {
          "base_uri": "https://localhost:8080/"
        },
        "id": "9rvfbeHm2fK-",
        "outputId": "3d196f10-81a4-4731-d2ef-4d80ca729aba"
      },
      "execution_count": 4,
      "outputs": [
        {
          "output_type": "stream",
          "name": "stdout",
          "text": [
            "[jovian] Detected Colab notebook...\u001b[0m\n",
            "[jovian] jovian.commit() is no longer required on Google Colab. If you ran this notebook from Jovian, \n",
            "then just save this file in Colab using Ctrl+S/Cmd+S and it will be updated on Jovian. \n",
            "Also, you can also delete this cell, it's no longer necessary.\u001b[0m\n"
          ]
        }
      ]
    },
    {
      "cell_type": "markdown",
      "source": [
        "# US Accidents Exploratory Analysis\n",
        "\n",
        "\n",
        "1.   ToDo - Talk about EDA\n",
        "2.   ToDo - Talk about dataset (source, what it contents, how it will be useful)\n",
        "  - Kaggle\n",
        "  - Information about accidents\n",
        "  - Can be useful to prevent future accidents?\n",
        "  - Mention that this dataset does not contain information about New York.\n",
        "    \n",
        "\n"
      ],
      "metadata": {
        "id": "v7fPGKStKV9G"
      }
    },
    {
      "cell_type": "markdown",
      "source": [
        "## Download dataset"
      ],
      "metadata": {
        "id": "f2Ba9ZCyKe9m"
      }
    },
    {
      "cell_type": "code",
      "source": [
        "pip install opendatasets --upgrade --quiet"
      ],
      "metadata": {
        "id": "d6lV_JIfKc1C"
      },
      "execution_count": null,
      "outputs": []
    },
    {
      "cell_type": "code",
      "source": [
        "from google.colab import drive\n",
        "drive.mount('/content/drive')"
      ],
      "metadata": {
        "colab": {
          "base_uri": "https://localhost:8080/"
        },
        "id": "iADs24fASmb6",
        "outputId": "afa3c6f6-4df6-4c5b-e359-3876040ff74a"
      },
      "execution_count": null,
      "outputs": [
        {
          "output_type": "stream",
          "name": "stdout",
          "text": [
            "Mounted at /content/drive\n"
          ]
        }
      ]
    },
    {
      "cell_type": "code",
      "source": [
        "# import opendatasets as od\n",
        "# dataset_url = 'https://www.kaggle.com/datasets/sobhanmoosavi/us-accidents'\n",
        "# od.download(dataset_url)"
      ],
      "metadata": {
        "id": "2YhbyC0gQHlW"
      },
      "execution_count": null,
      "outputs": []
    },
    {
      "cell_type": "code",
      "source": [
        "import zipfile\n",
        "from google.colab import drive\n",
        "\n",
        "drive.mount('/content/drive/')\n",
        "\n",
        "zip_ref = zipfile.ZipFile(\"/content/drive/MyDrive/Jovian/prachisarode95 eda-us-accidents-2016-to-2022/archive.zip\", 'r')\n",
        "zip_ref.extractall(\"/us_acc\")\n",
        "zip_ref.close()"
      ],
      "metadata": {
        "colab": {
          "base_uri": "https://localhost:8080/"
        },
        "id": "rXtPYHoIKc3a",
        "outputId": "e00ca1ca-74d1-4133-a1e4-6927f463c8e2"
      },
      "execution_count": null,
      "outputs": [
        {
          "output_type": "stream",
          "name": "stdout",
          "text": [
            "Drive already mounted at /content/drive/; to attempt to forcibly remount, call drive.mount(\"/content/drive/\", force_remount=True).\n"
          ]
        }
      ]
    },
    {
      "cell_type": "code",
      "source": [
        "!unzip -q \"/content/drive/MyDrive/Jovian/prachisarode95 eda-us-accidents-2016-to-2022/archive.zip\""
      ],
      "metadata": {
        "id": "WzwV6vCeb_6w"
      },
      "execution_count": null,
      "outputs": []
    },
    {
      "cell_type": "code",
      "source": [
        "data_filename = '/content/US_Accidents_March23.csv'"
      ],
      "metadata": {
        "id": "TmUJ83e6c3fR"
      },
      "execution_count": 5,
      "outputs": []
    },
    {
      "cell_type": "markdown",
      "source": [
        "## Data Preparation and Cleaning\n",
        "- Load the file using Pandas\n",
        "- Look at some information about the data & the columns\n",
        "- Fix missing or incorrect values"
      ],
      "metadata": {
        "id": "lARbRJQNKj4f"
      }
    },
    {
      "cell_type": "code",
      "source": [
        "import pandas as pd"
      ],
      "metadata": {
        "id": "SrMWdahvc3hm"
      },
      "execution_count": 6,
      "outputs": []
    },
    {
      "cell_type": "code",
      "source": [
        "# df = pd.read_csv(data_filename)"
      ],
      "metadata": {
        "id": "uEVDsBYvc3kc"
      },
      "execution_count": 8,
      "outputs": []
    },
    {
      "cell_type": "code",
      "source": [
        "df.columns"
      ],
      "metadata": {
        "id": "r6LFiZxSc3oc"
      },
      "execution_count": null,
      "outputs": []
    },
    {
      "cell_type": "code",
      "source": [
        "len(df.columns)"
      ],
      "metadata": {
        "id": "M9aAn1edd9Zm"
      },
      "execution_count": null,
      "outputs": []
    },
    {
      "cell_type": "code",
      "source": [
        "df.info()"
      ],
      "metadata": {
        "id": "m9H5_-Ogc3sa"
      },
      "execution_count": null,
      "outputs": []
    },
    {
      "cell_type": "code",
      "source": [
        "df.describe()"
      ],
      "metadata": {
        "id": "QqyXYevEe1_8"
      },
      "execution_count": null,
      "outputs": []
    },
    {
      "cell_type": "code",
      "source": [
        "# numeric_df = df.select_dtypes(include=numerics)\n",
        "# len(numeric_df.columns)"
      ],
      "metadata": {
        "id": "C3i4UQGde2Ss"
      },
      "execution_count": null,
      "outputs": []
    },
    {
      "cell_type": "markdown",
      "source": [
        "Percentage of missing values per column"
      ],
      "metadata": {
        "id": "tmpJFic-S9Eq"
      }
    },
    {
      "cell_type": "code",
      "source": [
        "missing_percentages = df.isna().sum().sort_values(ascending=False) / len(df)\n",
        "missing_percentages"
      ],
      "metadata": {
        "id": "39pdmqige2VD"
      },
      "execution_count": null,
      "outputs": []
    },
    {
      "cell_type": "code",
      "source": [
        "missing_percentages[missing_percentages != 0 ]"
      ],
      "metadata": {
        "id": "4T0R0OOze2Ya"
      },
      "execution_count": null,
      "outputs": []
    },
    {
      "cell_type": "markdown",
      "source": [
        "Remove columns that you don't want to use"
      ],
      "metadata": {
        "id": "FewXwtmmT5uY"
      }
    },
    {
      "cell_type": "code",
      "source": [
        "missing_percentages[missing_percentages != 0 ].plot(kind='barh')"
      ],
      "metadata": {
        "id": "m1q2sHoMTueg"
      },
      "execution_count": null,
      "outputs": []
    },
    {
      "cell_type": "markdown",
      "source": [
        "# Exploratory Analysis and Visualization\n",
        "Columns we'll analyse:\n",
        "  1. City\n",
        "  2. Start Time\n",
        "  3. Start Lat & Start Lng\n",
        "  4. Temperature\n",
        "  5. Weather Condition"
      ],
      "metadata": {
        "id": "meqk4ZjHKpvB"
      }
    },
    {
      "cell_type": "code",
      "source": [
        "df.columns"
      ],
      "metadata": {
        "id": "yabvvQp9Kc7f"
      },
      "execution_count": null,
      "outputs": []
    },
    {
      "cell_type": "code",
      "source": [
        "df.City"
      ],
      "metadata": {
        "id": "CJJVGaD2UX7v"
      },
      "execution_count": null,
      "outputs": []
    },
    {
      "cell_type": "code",
      "source": [
        "cities = df.City.unique()\n",
        "len(cities)"
      ],
      "metadata": {
        "id": "bqAvyBVrUX-q"
      },
      "execution_count": null,
      "outputs": []
    },
    {
      "cell_type": "code",
      "source": [
        "cities_by_accidents =  df.City.value_counts()\n",
        "cities_by_accidents"
      ],
      "metadata": {
        "id": "BjDOpk83UYBn"
      },
      "execution_count": null,
      "outputs": []
    },
    {
      "cell_type": "code",
      "source": [
        "cities_by_accidents[:10]"
      ],
      "metadata": {
        "id": "mejvMt0VUYEd"
      },
      "execution_count": null,
      "outputs": []
    },
    {
      "cell_type": "code",
      "source": [
        "'NY' in df.State"
      ],
      "metadata": {
        "id": "lTmeyn5bVNjb"
      },
      "execution_count": null,
      "outputs": []
    },
    {
      "cell_type": "code",
      "source": [
        "cities_by_accidents[:20].plot(kind='barh')"
      ],
      "metadata": {
        "id": "bZtq3xXfVNnF"
      },
      "execution_count": null,
      "outputs": []
    },
    {
      "cell_type": "markdown",
      "source": [
        "Visualization showing distribution of the higher number of accidents "
      ],
      "metadata": {
        "id": "7NhED-3JXZVN"
      }
    },
    {
      "cell_type": "code",
      "source": [
        "import seaborn as sns\n",
        "sns.set_style(\"darkgrid\")"
      ],
      "metadata": {
        "id": "ZKLisVA2UYHb"
      },
      "execution_count": null,
      "outputs": []
    },
    {
      "cell_type": "code",
      "source": [
        "sns.distplot(cities_by_accidents, log_scale=True )"
      ],
      "metadata": {
        "id": "3Fl7HFXyUYXr"
      },
      "execution_count": null,
      "outputs": []
    },
    {
      "cell_type": "code",
      "source": [
        "high_accident_cities = cities_by_accidents[cities_by_accidents >= 1000]\n",
        "low_accident_cities = cities_by_accidents[cities_by_accidents < 1000]"
      ],
      "metadata": {
        "id": "HpIj0LPIUYbU"
      },
      "execution_count": null,
      "outputs": []
    },
    {
      "cell_type": "code",
      "source": [
        "len(high_accident_cities) / len(cities)\n",
        "len(low_accident_cities) / len(cities)"
      ],
      "metadata": {
        "id": "KyK2JltXeps7"
      },
      "execution_count": null,
      "outputs": []
    },
    {
      "cell_type": "code",
      "source": [
        "sns.distplot(high_accident_cities)"
      ],
      "metadata": {
        "id": "nY1pCyWHepvr"
      },
      "execution_count": null,
      "outputs": []
    },
    {
      "cell_type": "code",
      "source": [
        "sns.distplot(low_accident_cities)"
      ],
      "metadata": {
        "id": "WVQVwu3wepyw"
      },
      "execution_count": null,
      "outputs": []
    },
    {
      "cell_type": "code",
      "source": [
        "cities_by_accidents[cities_by_accidents == 1]"
      ],
      "metadata": {
        "id": "Dy1TKJfcfoWB"
      },
      "execution_count": null,
      "outputs": []
    },
    {
      "cell_type": "markdown",
      "source": [
        "Analyse the time accidents happened"
      ],
      "metadata": {
        "id": "RBRWwBVklDoE"
      }
    },
    {
      "cell_type": "code",
      "source": [
        "df.Start_Time = pd.to_datetime(df.Start_Time)"
      ],
      "metadata": {
        "id": "ZYc5tn-HfoY2"
      },
      "execution_count": null,
      "outputs": []
    },
    {
      "cell_type": "code",
      "source": [
        "df.Start_Time[0]"
      ],
      "metadata": {
        "id": "wJ7bqYt5k7L2"
      },
      "execution_count": null,
      "outputs": []
    },
    {
      "cell_type": "markdown",
      "source": [
        "Figure out how to show percentages"
      ],
      "metadata": {
        "id": "PInJJg9HngvW"
      }
    },
    {
      "cell_type": "code",
      "source": [
        "sns.histplot(df.Start_Time.dt.hour / len(df), bins=24, kde=False)"
      ],
      "metadata": {
        "id": "1N8O0Jtck7O4"
      },
      "execution_count": null,
      "outputs": []
    },
    {
      "cell_type": "markdown",
      "source": [
        "- A high percentage of accidents occur between 6 am to 10 am (probably people tend to be in hurry)\n",
        "- Next highest percentage is 3 pm to 6 pm "
      ],
      "metadata": {
        "id": "p3m2Oghnnpwa"
      }
    },
    {
      "cell_type": "code",
      "source": [
        "sns.histplot(df.Start_Time.dt.dayofweek, bins=7, kde=False)"
      ],
      "metadata": {
        "id": "xXC4j1Xek7SH"
      },
      "execution_count": null,
      "outputs": []
    },
    {
      "cell_type": "markdown",
      "source": [
        "Is the distribution of accidents by hour the same on weekends as on weekdays?"
      ],
      "metadata": {
        "id": "mBo7TRTDo79G"
      }
    },
    {
      "cell_type": "code",
      "source": [
        "df.Start_Time[df.Start_Time.dt.dayofweek == 6] or df.Start_Time[df.Start_Time.dt.dayofweek == 5]"
      ],
      "metadata": {
        "id": "Q-rM6B1Lk7zM"
      },
      "execution_count": null,
      "outputs": []
    },
    {
      "cell_type": "code",
      "source": [
        "sunday_start_time = df.Start_Time[df.Start_Time.dt.dayofweek == 6]\n",
        "sns.distplot(sunday_start_time.dt.hour, bins=24, kde=False, norm_hist=True)"
      ],
      "metadata": {
        "id": "E2sWHvf_k72C"
      },
      "execution_count": null,
      "outputs": []
    },
    {
      "cell_type": "code",
      "source": [
        "monday_start_time = df.Start_Time[df.Start_Time.dt.dayofweek == 0]\n",
        "sns.distplot(monday_start_time.dt.hour, bins=24, kde=False, norm_hist=True)"
      ],
      "metadata": {
        "id": "ikeyUlDqk75c"
      },
      "execution_count": null,
      "outputs": []
    },
    {
      "cell_type": "markdown",
      "source": [
        "On sundays, the peak occurs between 10 am and 3 pm, unlike weekdays"
      ],
      "metadata": {
        "id": "cJ_KGJZ3qM1-"
      }
    },
    {
      "cell_type": "code",
      "source": [
        "df.Start_Time.dt.year"
      ],
      "metadata": {
        "id": "RPKzibmuq4Hv"
      },
      "execution_count": null,
      "outputs": []
    },
    {
      "cell_type": "code",
      "source": [
        "df_2019 = df[df.Start_Time.dt.year == 2019]\n",
        "df_2019_Bing = df_2019[df_2019.Source == 'Bing']\n",
        "# df_2019_Mapquest = df_2019[df_2019.Source == 'Mapquest']\n",
        "sns.distplot(df_2019.Start_Time.dt.month, bins=12, kde=False, norm_hist=True)"
      ],
      "metadata": {
        "id": "zY1nq8S3rAs1"
      },
      "execution_count": null,
      "outputs": []
    },
    {
      "cell_type": "code",
      "source": [],
      "metadata": {
        "id": "FBb-nTHlk78t"
      },
      "execution_count": null,
      "outputs": []
    },
    {
      "cell_type": "markdown",
      "source": [
        "Can you explain the month-wise trend of accidents?\n",
        "- Much data is missing for 2016 or maybe even for 2017. \n",
        "- There seems to be some issue with the Bing data"
      ],
      "metadata": {
        "id": "xV5PO0thqsbZ"
      }
    },
    {
      "cell_type": "code",
      "source": [
        "df.Source.value_counts().plot(kind='pie')"
      ],
      "metadata": {
        "id": "qWcZ5tIDk7_e"
      },
      "execution_count": null,
      "outputs": []
    },
    {
      "cell_type": "markdown",
      "source": [
        "Consider excluding bing data, seems to have issues with it."
      ],
      "metadata": {
        "id": "tiN1xCTAsemM"
      }
    },
    {
      "cell_type": "markdown",
      "source": [
        "## Start Latitude and Longitude"
      ],
      "metadata": {
        "id": "ltuUhgHMsohn"
      }
    },
    {
      "cell_type": "code",
      "source": [
        "df.Start_Lat"
      ],
      "metadata": {
        "id": "Nv6Uulebfobu"
      },
      "execution_count": null,
      "outputs": []
    },
    {
      "cell_type": "code",
      "source": [
        "df.Start_Lng"
      ],
      "metadata": {
        "id": "39Uln7P1sxnq"
      },
      "execution_count": null,
      "outputs": []
    },
    {
      "cell_type": "code",
      "source": [
        "# taking a small sample out of the entire dataset\n",
        "sample_df = df.sample(int(0.1 * len(df)))\n",
        "sns.scatterplot(x=sample_df.Start_Lng, y=sample_df.Start_Lat, size=0.001)"
      ],
      "metadata": {
        "id": "BGHNkDgHsxq4"
      },
      "execution_count": null,
      "outputs": []
    },
    {
      "cell_type": "markdown",
      "source": [
        "Visualize data on the map using folium library"
      ],
      "metadata": {
        "id": "i7lHsoYxtwuR"
      }
    },
    {
      "cell_type": "code",
      "source": [
        "import folium\n",
        "lat, lng = df.Start_Lat[0], df.Start_Lng[0]\n",
        "lat, lng"
      ],
      "metadata": {
        "id": "3cf0JuxEsxwt"
      },
      "execution_count": null,
      "outputs": []
    },
    {
      "cell_type": "code",
      "source": [
        "map = folium.Map(location=[38.9, -77.05], zoom_start=12)\n",
        "marker = folium.Marker((lat, lng))\n",
        "marker.add_to(map)\n",
        "map"
      ],
      "metadata": {
        "id": "iS-EBgMCtrbz"
      },
      "execution_count": null,
      "outputs": []
    },
    {
      "cell_type": "code",
      "source": [
        "# for x in df[['Start_Lat', 'Start_Lng']].sample(100).iteritems():\n",
        "#   print(x)"
      ],
      "metadata": {
        "id": "hLJD2cmktrfP"
      },
      "execution_count": null,
      "outputs": []
    },
    {
      "cell_type": "code",
      "source": [
        "from folium import plugins\n",
        "from folium.plugins import HeatMap"
      ],
      "metadata": {
        "id": "5h7Pduu6trwe"
      },
      "execution_count": null,
      "outputs": []
    },
    {
      "cell_type": "code",
      "source": [
        "# create a heat map\n",
        "sample_df = df.sample(int(0.001 * len(df)))\n",
        "paired_lat_lngs = list(zip(list(sample_df.Start_Lat), list(sample_df.Start_Lng))) #will give you a list of pairs of lat lng values\n",
        " \n",
        "HeatMap(paired_lat_lngs).add_to(map)\n",
        "map"
      ],
      "metadata": {
        "id": "o2RXdxxptr0A"
      },
      "execution_count": null,
      "outputs": []
    },
    {
      "cell_type": "markdown",
      "source": [
        "Perform further analysis according to the remaining questions.."
      ],
      "metadata": {
        "id": "hM7GDfqFxh5g"
      }
    },
    {
      "cell_type": "markdown",
      "source": [
        "## Ask & Answer Questions\n",
        " 1. Are there more accidents in warmer or colder areas?\n",
        " 2. Which 5 states have the highest number of accidents? How about per capita?\n",
        " 3. Does New York show up in the data? If yes, why is the count lower if it's the most populated city?\n",
        " 4. Among the top 100 cities in the number of accidents, which states do they belong to most frequently?\n",
        " 5. What time of the day are accidents most frequent in?\n",
        " 6. Which days of the week have the most accidents?\n",
        " 7. Which months have the most accidents?\n",
        " 8. What is the trend of accidents year over year(decreasing/increasing)?\n",
        " 9. When is the accidents per unit of traffic the highest?"
      ],
      "metadata": {
        "id": "iKRlxC9wKuka"
      }
    },
    {
      "cell_type": "markdown",
      "source": [
        "## Summary & Conclusion\n",
        "\n",
        "Insights:\n",
        "  - No data from the New York city\n",
        "  - The number of accidents per city follows an exponential decrease.\n",
        "  - Less that 5% of cities have more than 1000 yearly accidents\n",
        "  - Over 1200 cities have reported just one accident"
      ],
      "metadata": {
        "id": "lXO7Qsn-K1v0"
      }
    },
    {
      "cell_type": "code",
      "source": [
        "jovian.commit()"
      ],
      "metadata": {
        "colab": {
          "base_uri": "https://localhost:8080/"
        },
        "id": "ioycE5liK1Db",
        "outputId": "45bc36b9-7d87-433f-f7f0-2a71ab5930ec"
      },
      "execution_count": 9,
      "outputs": [
        {
          "output_type": "stream",
          "name": "stdout",
          "text": [
            "[jovian] Detected Colab notebook...\u001b[0m\n",
            "[jovian] jovian.commit() is no longer required on Google Colab. If you ran this notebook from Jovian, \n",
            "then just save this file in Colab using Ctrl+S/Cmd+S and it will be updated on Jovian. \n",
            "Also, you can also delete this cell, it's no longer necessary.\u001b[0m\n"
          ]
        }
      ]
    },
    {
      "cell_type": "code",
      "source": [],
      "metadata": {
        "id": "XShpuzxGVfRR"
      },
      "execution_count": null,
      "outputs": []
    }
  ],
  "metadata": {
    "kernelspec": {
      "display_name": "Python 3",
      "name": "python3"
    },
    "language_info": {
      "codemirror_mode": {
        "name": "ipython",
        "version": 3
      },
      "file_extension": ".py",
      "mimetype": "text/x-python",
      "name": "python",
      "nbconvert_exporter": "python",
      "pygments_lexer": "ipython3",
      "version": "3.7.6"
    },
    "colab": {
      "provenance": [],
      "gpuType": "T4"
    },
    "accelerator": "TPU"
  },
  "nbformat": 4,
  "nbformat_minor": 0
}